{
  "nbformat": 4,
  "nbformat_minor": 0,
  "metadata": {
    "colab": {
      "name": "Soal 1",
      "provenance": [],
      "collapsed_sections": [
        "Ij3bm9C5KZht",
        "21IYt1YWLCWv",
        "G4sGUE3Qe9E0",
        "qERpyRCIFajO",
        "VKprsRt4r6p_",
        "Cv0xzbA8kTH7",
        "8F8vJ2sa0CL-"
      ],
      "toc_visible": true,
      "machine_shape": "hm",
      "include_colab_link": true
    },
    "kernelspec": {
      "name": "python3",
      "display_name": "Python 3"
    }
  },
  "cells": [
    {
      "cell_type": "markdown",
      "metadata": {
        "id": "view-in-github",
        "colab_type": "text"
      },
      "source": [
        "<a href=\"https://colab.research.google.com/github/nauvalihza/data-mining/blob/main/tugas3buatsendiri.ipynb\" target=\"_parent\"><img src=\"https://colab.research.google.com/assets/colab-badge.svg\" alt=\"Open In Colab\"/></a>"
      ]
    },
    {
      "cell_type": "code",
      "metadata": {
        "id": "KNV5YUWsGBJX"
      },
      "source": [
        "import numpy as np\n",
        "import pandas as pd\n",
        "import matplotlib.pyplot as plt\n",
        "import seaborn as sns\n",
        "import scipy as sp"
      ],
      "execution_count": null,
      "outputs": []
    },
    {
      "cell_type": "markdown",
      "metadata": {
        "id": "TSwo_UE8tvOO"
      },
      "source": [
        "Dataset merupakan data Pima Indian Diabet dari Kaggle"
      ]
    },
    {
      "cell_type": "code",
      "metadata": {
        "id": "pu0z9S0rGWcx",
        "colab": {
          "base_uri": "https://localhost:8080/",
          "height": 462
        },
        "outputId": "216f48b9-dc35-4850-b9b7-cf7eca3eb5ac"
      },
      "source": [
        "#Mengimport data\n",
        "datmin = pd.read_csv('newdiabet.csv',sep=\";\")\n",
        "datmin.head(14)"
      ],
      "execution_count": null,
      "outputs": [
        {
          "output_type": "execute_result",
          "data": {
            "text/html": [
              "<div>\n",
              "<style scoped>\n",
              "    .dataframe tbody tr th:only-of-type {\n",
              "        vertical-align: middle;\n",
              "    }\n",
              "\n",
              "    .dataframe tbody tr th {\n",
              "        vertical-align: top;\n",
              "    }\n",
              "\n",
              "    .dataframe thead th {\n",
              "        text-align: right;\n",
              "    }\n",
              "</style>\n",
              "<table border=\"1\" class=\"dataframe\">\n",
              "  <thead>\n",
              "    <tr style=\"text-align: right;\">\n",
              "      <th></th>\n",
              "      <th>Unnamed: 0</th>\n",
              "      <th>Pregnancies</th>\n",
              "      <th>Glucose</th>\n",
              "      <th>BloodPressure</th>\n",
              "      <th>SkinThickness</th>\n",
              "      <th>Insulin</th>\n",
              "      <th>BMI</th>\n",
              "      <th>DiabetesPedigreeFunction</th>\n",
              "      <th>Age</th>\n",
              "      <th>Outcome</th>\n",
              "    </tr>\n",
              "  </thead>\n",
              "  <tbody>\n",
              "    <tr>\n",
              "      <th>0</th>\n",
              "      <td>1</td>\n",
              "      <td>2.0</td>\n",
              "      <td>23.0</td>\n",
              "      <td>14.0</td>\n",
              "      <td>12.0</td>\n",
              "      <td>42.0</td>\n",
              "      <td>45.0</td>\n",
              "      <td>54.0</td>\n",
              "      <td>41.0</td>\n",
              "      <td>43.0</td>\n",
              "    </tr>\n",
              "    <tr>\n",
              "      <th>1</th>\n",
              "      <td>2</td>\n",
              "      <td>3.0</td>\n",
              "      <td>45.0</td>\n",
              "      <td>23.0</td>\n",
              "      <td>32.0</td>\n",
              "      <td>12.0</td>\n",
              "      <td>67.0</td>\n",
              "      <td>12.0</td>\n",
              "      <td>32.0</td>\n",
              "      <td>23.0</td>\n",
              "    </tr>\n",
              "    <tr>\n",
              "      <th>2</th>\n",
              "      <td>3</td>\n",
              "      <td>NaN</td>\n",
              "      <td>43.0</td>\n",
              "      <td>54.0</td>\n",
              "      <td>51.0</td>\n",
              "      <td>NaN</td>\n",
              "      <td>45.0</td>\n",
              "      <td>NaN</td>\n",
              "      <td>53.0</td>\n",
              "      <td>43.0</td>\n",
              "    </tr>\n",
              "    <tr>\n",
              "      <th>3</th>\n",
              "      <td>4</td>\n",
              "      <td>1.0</td>\n",
              "      <td>55.0</td>\n",
              "      <td>34.0</td>\n",
              "      <td>42.0</td>\n",
              "      <td>34.0</td>\n",
              "      <td>NaN</td>\n",
              "      <td>43.0</td>\n",
              "      <td>34.0</td>\n",
              "      <td>NaN</td>\n",
              "    </tr>\n",
              "    <tr>\n",
              "      <th>4</th>\n",
              "      <td>5</td>\n",
              "      <td>2.0</td>\n",
              "      <td>78.0</td>\n",
              "      <td>NaN</td>\n",
              "      <td>123.0</td>\n",
              "      <td>55.0</td>\n",
              "      <td>31.0</td>\n",
              "      <td>34.0</td>\n",
              "      <td>NaN</td>\n",
              "      <td>43.0</td>\n",
              "    </tr>\n",
              "    <tr>\n",
              "      <th>5</th>\n",
              "      <td>6</td>\n",
              "      <td>4.0</td>\n",
              "      <td>12.0</td>\n",
              "      <td>67.0</td>\n",
              "      <td>42.0</td>\n",
              "      <td>21.0</td>\n",
              "      <td>43.0</td>\n",
              "      <td>45.0</td>\n",
              "      <td>43.0</td>\n",
              "      <td>43.0</td>\n",
              "    </tr>\n",
              "    <tr>\n",
              "      <th>6</th>\n",
              "      <td>7</td>\n",
              "      <td>2.0</td>\n",
              "      <td>67.0</td>\n",
              "      <td>43.0</td>\n",
              "      <td>45.0</td>\n",
              "      <td>45.0</td>\n",
              "      <td>11.0</td>\n",
              "      <td>45.0</td>\n",
              "      <td>56.0</td>\n",
              "      <td>43.0</td>\n",
              "    </tr>\n",
              "    <tr>\n",
              "      <th>7</th>\n",
              "      <td>8</td>\n",
              "      <td>NaN</td>\n",
              "      <td>NaN</td>\n",
              "      <td>41.0</td>\n",
              "      <td>NaN</td>\n",
              "      <td>23.0</td>\n",
              "      <td>34.0</td>\n",
              "      <td>45.0</td>\n",
              "      <td>75.0</td>\n",
              "      <td>12.0</td>\n",
              "    </tr>\n",
              "    <tr>\n",
              "      <th>8</th>\n",
              "      <td>9</td>\n",
              "      <td>7.0</td>\n",
              "      <td>13.0</td>\n",
              "      <td>56.0</td>\n",
              "      <td>23.0</td>\n",
              "      <td>12.0</td>\n",
              "      <td>56.0</td>\n",
              "      <td>56.0</td>\n",
              "      <td>32.0</td>\n",
              "      <td>43.0</td>\n",
              "    </tr>\n",
              "    <tr>\n",
              "      <th>9</th>\n",
              "      <td>10</td>\n",
              "      <td>8.0</td>\n",
              "      <td>55.0</td>\n",
              "      <td>78.0</td>\n",
              "      <td>53.0</td>\n",
              "      <td>34.0</td>\n",
              "      <td>35.0</td>\n",
              "      <td>86.0</td>\n",
              "      <td>46.0</td>\n",
              "      <td>54.0</td>\n",
              "    </tr>\n",
              "    <tr>\n",
              "      <th>10</th>\n",
              "      <td>11</td>\n",
              "      <td>5.0</td>\n",
              "      <td>36.0</td>\n",
              "      <td>12.0</td>\n",
              "      <td>57.0</td>\n",
              "      <td>NaN</td>\n",
              "      <td>35.0</td>\n",
              "      <td>77.0</td>\n",
              "      <td>76.0</td>\n",
              "      <td>32.0</td>\n",
              "    </tr>\n",
              "    <tr>\n",
              "      <th>11</th>\n",
              "      <td>12</td>\n",
              "      <td>4.0</td>\n",
              "      <td>NaN</td>\n",
              "      <td>34.0</td>\n",
              "      <td>12.0</td>\n",
              "      <td>12.0</td>\n",
              "      <td>45.0</td>\n",
              "      <td>66.0</td>\n",
              "      <td>45.0</td>\n",
              "      <td>54.0</td>\n",
              "    </tr>\n",
              "    <tr>\n",
              "      <th>12</th>\n",
              "      <td>13</td>\n",
              "      <td>1.0</td>\n",
              "      <td>12.0</td>\n",
              "      <td>67.0</td>\n",
              "      <td>56.0</td>\n",
              "      <td>56.0</td>\n",
              "      <td>64.0</td>\n",
              "      <td>55.0</td>\n",
              "      <td>79.0</td>\n",
              "      <td>23.0</td>\n",
              "    </tr>\n",
              "    <tr>\n",
              "      <th>13</th>\n",
              "      <td>14</td>\n",
              "      <td>3.0</td>\n",
              "      <td>34.0</td>\n",
              "      <td>12.0</td>\n",
              "      <td>12.0</td>\n",
              "      <td>45.0</td>\n",
              "      <td>53.0</td>\n",
              "      <td>33.0</td>\n",
              "      <td>65.0</td>\n",
              "      <td>12.0</td>\n",
              "    </tr>\n",
              "  </tbody>\n",
              "</table>\n",
              "</div>"
            ],
            "text/plain": [
              "    Unnamed: 0  Pregnancies  Glucose  ...  DiabetesPedigreeFunction   Age  Outcome\n",
              "0            1          2.0     23.0  ...                      54.0  41.0     43.0\n",
              "1            2          3.0     45.0  ...                      12.0  32.0     23.0\n",
              "2            3          NaN     43.0  ...                       NaN  53.0     43.0\n",
              "3            4          1.0     55.0  ...                      43.0  34.0      NaN\n",
              "4            5          2.0     78.0  ...                      34.0   NaN     43.0\n",
              "5            6          4.0     12.0  ...                      45.0  43.0     43.0\n",
              "6            7          2.0     67.0  ...                      45.0  56.0     43.0\n",
              "7            8          NaN      NaN  ...                      45.0  75.0     12.0\n",
              "8            9          7.0     13.0  ...                      56.0  32.0     43.0\n",
              "9           10          8.0     55.0  ...                      86.0  46.0     54.0\n",
              "10          11          5.0     36.0  ...                      77.0  76.0     32.0\n",
              "11          12          4.0      NaN  ...                      66.0  45.0     54.0\n",
              "12          13          1.0     12.0  ...                      55.0  79.0     23.0\n",
              "13          14          3.0     34.0  ...                      33.0  65.0     12.0\n",
              "\n",
              "[14 rows x 10 columns]"
            ]
          },
          "metadata": {
            "tags": []
          },
          "execution_count": 40
        }
      ]
    },
    {
      "cell_type": "markdown",
      "metadata": {
        "id": "wT3-FpZE0Jwi"
      },
      "source": [
        "#EDA"
      ]
    },
    {
      "cell_type": "code",
      "metadata": {
        "id": "euwYIY3y6kyC",
        "colab": {
          "base_uri": "https://localhost:8080/"
        },
        "outputId": "f49399c0-13a6-4c0e-e6bb-c010381ba1c0"
      },
      "source": [
        "datmin.dtypes"
      ],
      "execution_count": null,
      "outputs": [
        {
          "output_type": "execute_result",
          "data": {
            "text/plain": [
              "Unnamed: 0                    int64\n",
              "Pregnancies                 float64\n",
              "Glucose                     float64\n",
              "BloodPressure               float64\n",
              "SkinThickness               float64\n",
              "Insulin                     float64\n",
              "BMI                         float64\n",
              "DiabetesPedigreeFunction    float64\n",
              "Age                         float64\n",
              "Outcome                     float64\n",
              "dtype: object"
            ]
          },
          "metadata": {
            "tags": []
          },
          "execution_count": 41
        }
      ]
    },
    {
      "cell_type": "code",
      "metadata": {
        "id": "SLhOA0MFScSz",
        "colab": {
          "base_uri": "https://localhost:8080/",
          "height": 343
        },
        "outputId": "df893231-0b2c-4201-e939-c95a29e07ef4"
      },
      "source": [
        "datmin.describe().transpose()"
      ],
      "execution_count": null,
      "outputs": [
        {
          "output_type": "execute_result",
          "data": {
            "text/html": [
              "<div>\n",
              "<style scoped>\n",
              "    .dataframe tbody tr th:only-of-type {\n",
              "        vertical-align: middle;\n",
              "    }\n",
              "\n",
              "    .dataframe tbody tr th {\n",
              "        vertical-align: top;\n",
              "    }\n",
              "\n",
              "    .dataframe thead th {\n",
              "        text-align: right;\n",
              "    }\n",
              "</style>\n",
              "<table border=\"1\" class=\"dataframe\">\n",
              "  <thead>\n",
              "    <tr style=\"text-align: right;\">\n",
              "      <th></th>\n",
              "      <th>count</th>\n",
              "      <th>mean</th>\n",
              "      <th>std</th>\n",
              "      <th>min</th>\n",
              "      <th>25%</th>\n",
              "      <th>50%</th>\n",
              "      <th>75%</th>\n",
              "      <th>max</th>\n",
              "    </tr>\n",
              "  </thead>\n",
              "  <tbody>\n",
              "    <tr>\n",
              "      <th>Unnamed: 0</th>\n",
              "      <td>19.0</td>\n",
              "      <td>10.000000</td>\n",
              "      <td>5.627314</td>\n",
              "      <td>1.0</td>\n",
              "      <td>5.50</td>\n",
              "      <td>10.0</td>\n",
              "      <td>14.50</td>\n",
              "      <td>19.0</td>\n",
              "    </tr>\n",
              "    <tr>\n",
              "      <th>Pregnancies</th>\n",
              "      <td>17.0</td>\n",
              "      <td>3.588235</td>\n",
              "      <td>2.181136</td>\n",
              "      <td>1.0</td>\n",
              "      <td>2.00</td>\n",
              "      <td>3.0</td>\n",
              "      <td>5.00</td>\n",
              "      <td>8.0</td>\n",
              "    </tr>\n",
              "    <tr>\n",
              "      <th>Glucose</th>\n",
              "      <td>16.0</td>\n",
              "      <td>41.375000</td>\n",
              "      <td>22.252715</td>\n",
              "      <td>12.0</td>\n",
              "      <td>20.50</td>\n",
              "      <td>44.0</td>\n",
              "      <td>57.50</td>\n",
              "      <td>78.0</td>\n",
              "    </tr>\n",
              "    <tr>\n",
              "      <th>BloodPressure</th>\n",
              "      <td>18.0</td>\n",
              "      <td>36.222222</td>\n",
              "      <td>22.595043</td>\n",
              "      <td>4.0</td>\n",
              "      <td>16.25</td>\n",
              "      <td>34.0</td>\n",
              "      <td>53.25</td>\n",
              "      <td>78.0</td>\n",
              "    </tr>\n",
              "    <tr>\n",
              "      <th>SkinThickness</th>\n",
              "      <td>18.0</td>\n",
              "      <td>42.277778</td>\n",
              "      <td>26.596783</td>\n",
              "      <td>12.0</td>\n",
              "      <td>25.25</td>\n",
              "      <td>42.0</td>\n",
              "      <td>55.25</td>\n",
              "      <td>123.0</td>\n",
              "    </tr>\n",
              "    <tr>\n",
              "      <th>Insulin</th>\n",
              "      <td>17.0</td>\n",
              "      <td>34.588235</td>\n",
              "      <td>15.945449</td>\n",
              "      <td>12.0</td>\n",
              "      <td>23.00</td>\n",
              "      <td>34.0</td>\n",
              "      <td>45.00</td>\n",
              "      <td>67.0</td>\n",
              "    </tr>\n",
              "    <tr>\n",
              "      <th>BMI</th>\n",
              "      <td>18.0</td>\n",
              "      <td>40.722222</td>\n",
              "      <td>17.190304</td>\n",
              "      <td>11.0</td>\n",
              "      <td>32.50</td>\n",
              "      <td>43.0</td>\n",
              "      <td>51.00</td>\n",
              "      <td>67.0</td>\n",
              "    </tr>\n",
              "    <tr>\n",
              "      <th>DiabetesPedigreeFunction</th>\n",
              "      <td>18.0</td>\n",
              "      <td>45.888889</td>\n",
              "      <td>20.387103</td>\n",
              "      <td>11.0</td>\n",
              "      <td>33.25</td>\n",
              "      <td>45.0</td>\n",
              "      <td>55.75</td>\n",
              "      <td>86.0</td>\n",
              "    </tr>\n",
              "    <tr>\n",
              "      <th>Age</th>\n",
              "      <td>18.0</td>\n",
              "      <td>47.500000</td>\n",
              "      <td>17.830080</td>\n",
              "      <td>14.0</td>\n",
              "      <td>35.75</td>\n",
              "      <td>44.5</td>\n",
              "      <td>55.25</td>\n",
              "      <td>79.0</td>\n",
              "    </tr>\n",
              "    <tr>\n",
              "      <th>Outcome</th>\n",
              "      <td>18.0</td>\n",
              "      <td>41.500000</td>\n",
              "      <td>18.715360</td>\n",
              "      <td>12.0</td>\n",
              "      <td>25.25</td>\n",
              "      <td>43.0</td>\n",
              "      <td>54.00</td>\n",
              "      <td>68.0</td>\n",
              "    </tr>\n",
              "  </tbody>\n",
              "</table>\n",
              "</div>"
            ],
            "text/plain": [
              "                          count       mean        std  ...   50%    75%    max\n",
              "Unnamed: 0                 19.0  10.000000   5.627314  ...  10.0  14.50   19.0\n",
              "Pregnancies                17.0   3.588235   2.181136  ...   3.0   5.00    8.0\n",
              "Glucose                    16.0  41.375000  22.252715  ...  44.0  57.50   78.0\n",
              "BloodPressure              18.0  36.222222  22.595043  ...  34.0  53.25   78.0\n",
              "SkinThickness              18.0  42.277778  26.596783  ...  42.0  55.25  123.0\n",
              "Insulin                    17.0  34.588235  15.945449  ...  34.0  45.00   67.0\n",
              "BMI                        18.0  40.722222  17.190304  ...  43.0  51.00   67.0\n",
              "DiabetesPedigreeFunction   18.0  45.888889  20.387103  ...  45.0  55.75   86.0\n",
              "Age                        18.0  47.500000  17.830080  ...  44.5  55.25   79.0\n",
              "Outcome                    18.0  41.500000  18.715360  ...  43.0  54.00   68.0\n",
              "\n",
              "[10 rows x 8 columns]"
            ]
          },
          "metadata": {
            "tags": []
          },
          "execution_count": 42
        }
      ]
    },
    {
      "cell_type": "code",
      "metadata": {
        "id": "mzflsZBx4c_G",
        "colab": {
          "base_uri": "https://localhost:8080/",
          "height": 350
        },
        "outputId": "397ae0b7-6414-4f79-f8f8-b2565e041914"
      },
      "source": [
        "sns.countplot(datmin['Outcome']).set_title('Distribution of Outcome')\n",
        "plt.show()"
      ],
      "execution_count": null,
      "outputs": [
        {
          "output_type": "stream",
          "text": [
            "/usr/local/lib/python3.7/dist-packages/seaborn/_decorators.py:43: FutureWarning: Pass the following variable as a keyword arg: x. From version 0.12, the only valid positional argument will be `data`, and passing other arguments without an explicit keyword will result in an error or misinterpretation.\n",
            "  FutureWarning\n"
          ],
          "name": "stderr"
        },
        {
          "output_type": "display_data",
          "data": {
            "image/png": "[encoded data removed]",
            "text/plain": [
              "<Figure size 432x288 with 1 Axes>"
            ]
          },
          "metadata": {
            "tags": [],
            "needs_background": "light"
          }
        }
      ]
    },
    {
      "cell_type": "markdown",
      "metadata": {
        "id": "PzJapNdtZmq5"
      },
      "source": [
        "# Skewness"
      ]
    },
    {
      "cell_type": "code",
      "metadata": {
        "id": "sV8iTj33ZqCs",
        "colab": {
          "base_uri": "https://localhost:8080/"
        },
        "outputId": "46b4bc53-06d0-490d-8431-282a74980b1e"
      },
      "source": [
        "datatr=['Glucose','BloodPressure','SkinThickness','Insulin','BMI']\n",
        "datmin[datatr].skew(axis=0, skipna=True)"
      ],
      "execution_count": null,
      "outputs": [
        {
          "output_type": "execute_result",
          "data": {
            "text/plain": [
              "Glucose         -0.031274\n",
              "BloodPressure    0.231108\n",
              "SkinThickness    1.520248\n",
              "Insulin          0.285509\n",
              "BMI             -0.190879\n",
              "dtype: float64"
            ]
          },
          "metadata": {
            "tags": []
          },
          "execution_count": 44
        }
      ]
    },
    {
      "cell_type": "code",
      "metadata": {
        "id": "u3ZAzDRlgyt2"
      },
      "source": [
        "df1=datmin.loc[datmin['Outcome']==0]\n",
        "df2=datmin.loc[datmin['Outcome']==1]"
      ],
      "execution_count": null,
      "outputs": []
    },
    {
      "cell_type": "code",
      "metadata": {
        "id": "ckz8j21njQNr",
        "colab": {
          "base_uri": "https://localhost:8080/",
          "height": 167
        },
        "outputId": "9a77665e-af42-4ddf-e2ea-0568ad880ac5"
      },
      "source": [
        "df1[datatr].skew(axis=0, skipna=True)"
      ],
      "execution_count": null,
      "outputs": [
        {
          "output_type": "error",
          "ename": "NameError",
          "evalue": "ignored",
          "traceback": [
            "\u001b[0;31m---------------------------------------------------------------------------\u001b[0m",
            "\u001b[0;31mNameError\u001b[0m                                 Traceback (most recent call last)",
            "\u001b[0;32m<ipython-input-14-037ab2022262>\u001b[0m in \u001b[0;36m<module>\u001b[0;34m()\u001b[0m\n\u001b[0;32m----> 1\u001b[0;31m \u001b[0mdf1\u001b[0m\u001b[0;34m[\u001b[0m\u001b[0mdatatr\u001b[0m\u001b[0;34m]\u001b[0m\u001b[0;34m.\u001b[0m\u001b[0mskew\u001b[0m\u001b[0;34m(\u001b[0m\u001b[0maxis\u001b[0m\u001b[0;34m=\u001b[0m\u001b[0;36m0\u001b[0m\u001b[0;34m,\u001b[0m \u001b[0mskipna\u001b[0m\u001b[0;34m=\u001b[0m\u001b[0;32mTrue\u001b[0m\u001b[0;34m)\u001b[0m\u001b[0;34m\u001b[0m\u001b[0;34m\u001b[0m\u001b[0m\n\u001b[0m",
            "\u001b[0;31mNameError\u001b[0m: name 'df1' is not defined"
          ]
        }
      ]
    },
    {
      "cell_type": "code",
      "metadata": {
        "id": "mfI4MeYsjUsM",
        "colab": {
          "base_uri": "https://localhost:8080/",
          "height": 167
        },
        "outputId": "1f07c79e-a669-4188-ad99-6292fdb896ce"
      },
      "source": [
        "df2[datatr].skew(axis=0, skipna=True)"
      ],
      "execution_count": null,
      "outputs": [
        {
          "output_type": "error",
          "ename": "NameError",
          "evalue": "ignored",
          "traceback": [
            "\u001b[0;31m---------------------------------------------------------------------------\u001b[0m",
            "\u001b[0;31mNameError\u001b[0m                                 Traceback (most recent call last)",
            "\u001b[0;32m<ipython-input-15-380a50f7e5c8>\u001b[0m in \u001b[0;36m<module>\u001b[0;34m()\u001b[0m\n\u001b[0;32m----> 1\u001b[0;31m \u001b[0mdf2\u001b[0m\u001b[0;34m[\u001b[0m\u001b[0mdatatr\u001b[0m\u001b[0;34m]\u001b[0m\u001b[0;34m.\u001b[0m\u001b[0mskew\u001b[0m\u001b[0;34m(\u001b[0m\u001b[0maxis\u001b[0m\u001b[0;34m=\u001b[0m\u001b[0;36m0\u001b[0m\u001b[0;34m,\u001b[0m \u001b[0mskipna\u001b[0m\u001b[0;34m=\u001b[0m\u001b[0;32mTrue\u001b[0m\u001b[0;34m)\u001b[0m\u001b[0;34m\u001b[0m\u001b[0;34m\u001b[0m\u001b[0m\n\u001b[0m",
            "\u001b[0;31mNameError\u001b[0m: name 'df2' is not defined"
          ]
        }
      ]
    },
    {
      "cell_type": "code",
      "metadata": {
        "id": "eQOl6-XSjZrS",
        "colab": {
          "base_uri": "https://localhost:8080/",
          "height": 167
        },
        "outputId": "e9d09bd3-ef30-4f6e-c8a7-b3191f9324e0"
      },
      "source": [
        "df1[datatr].describe()"
      ],
      "execution_count": null,
      "outputs": [
        {
          "output_type": "error",
          "ename": "NameError",
          "evalue": "ignored",
          "traceback": [
            "\u001b[0;31m---------------------------------------------------------------------------\u001b[0m",
            "\u001b[0;31mNameError\u001b[0m                                 Traceback (most recent call last)",
            "\u001b[0;32m<ipython-input-16-80b0485a185b>\u001b[0m in \u001b[0;36m<module>\u001b[0;34m()\u001b[0m\n\u001b[0;32m----> 1\u001b[0;31m \u001b[0mdf1\u001b[0m\u001b[0;34m[\u001b[0m\u001b[0mdatatr\u001b[0m\u001b[0;34m]\u001b[0m\u001b[0;34m.\u001b[0m\u001b[0mdescribe\u001b[0m\u001b[0;34m(\u001b[0m\u001b[0;34m)\u001b[0m\u001b[0;34m\u001b[0m\u001b[0;34m\u001b[0m\u001b[0m\n\u001b[0m",
            "\u001b[0;31mNameError\u001b[0m: name 'df1' is not defined"
          ]
        }
      ]
    },
    {
      "cell_type": "code",
      "metadata": {
        "id": "0iuYDitQjfib",
        "colab": {
          "base_uri": "https://localhost:8080/",
          "height": 167
        },
        "outputId": "0f66820d-5800-43d3-8e81-01808c5e77a1"
      },
      "source": [
        "df2[datatr].describe()"
      ],
      "execution_count": null,
      "outputs": [
        {
          "output_type": "error",
          "ename": "NameError",
          "evalue": "ignored",
          "traceback": [
            "\u001b[0;31m---------------------------------------------------------------------------\u001b[0m",
            "\u001b[0;31mNameError\u001b[0m                                 Traceback (most recent call last)",
            "\u001b[0;32m<ipython-input-17-e1e4069bc870>\u001b[0m in \u001b[0;36m<module>\u001b[0;34m()\u001b[0m\n\u001b[0;32m----> 1\u001b[0;31m \u001b[0mdf2\u001b[0m\u001b[0;34m[\u001b[0m\u001b[0mdatatr\u001b[0m\u001b[0;34m]\u001b[0m\u001b[0;34m.\u001b[0m\u001b[0mdescribe\u001b[0m\u001b[0;34m(\u001b[0m\u001b[0;34m)\u001b[0m\u001b[0;34m\u001b[0m\u001b[0;34m\u001b[0m\u001b[0m\n\u001b[0m",
            "\u001b[0;31mNameError\u001b[0m: name 'df2' is not defined"
          ]
        }
      ]
    },
    {
      "cell_type": "markdown",
      "metadata": {
        "id": "tJup7KW2ITZF"
      },
      "source": [
        "# **Preprocessing**"
      ]
    },
    {
      "cell_type": "code",
      "metadata": {
        "id": "LH5mkWPdGcAL",
        "colab": {
          "base_uri": "https://localhost:8080/",
          "height": 578
        },
        "outputId": "2e1916d5-6df4-4b75-fb77-cbb22c10219d"
      },
      "source": [
        "#Mengidentifikasi nilai tak wajar sebagai missing value\n",
        "\n",
        "datmin['Glucose']=datmin['Glucose'].replace(0,np.nan)\n",
        "datmin['BloodPressure']=datmin['BloodPressure'].replace(0,np.nan)\n",
        "datmin['SkinThickness']=datmin['SkinThickness'].replace(0,np.nan)\n",
        "datmin['Insulin']=datmin['Insulin'].replace(0,np.nan)\n",
        "datmin['BMI']=datmin['BMI'].replace(0,np.nan)\n",
        "datmin.head()"
      ],
      "execution_count": null,
      "outputs": [
        {
          "output_type": "error",
          "ename": "KeyError",
          "evalue": "ignored",
          "traceback": [
            "\u001b[0;31m---------------------------------------------------------------------------\u001b[0m",
            "\u001b[0;31mKeyError\u001b[0m                                  Traceback (most recent call last)",
            "\u001b[0;32m/usr/local/lib/python3.7/dist-packages/pandas/core/indexes/base.py\u001b[0m in \u001b[0;36mget_loc\u001b[0;34m(self, key, method, tolerance)\u001b[0m\n\u001b[1;32m   2897\u001b[0m             \u001b[0;32mtry\u001b[0m\u001b[0;34m:\u001b[0m\u001b[0;34m\u001b[0m\u001b[0;34m\u001b[0m\u001b[0m\n\u001b[0;32m-> 2898\u001b[0;31m                 \u001b[0;32mreturn\u001b[0m \u001b[0mself\u001b[0m\u001b[0;34m.\u001b[0m\u001b[0m_engine\u001b[0m\u001b[0;34m.\u001b[0m\u001b[0mget_loc\u001b[0m\u001b[0;34m(\u001b[0m\u001b[0mcasted_key\u001b[0m\u001b[0;34m)\u001b[0m\u001b[0;34m\u001b[0m\u001b[0;34m\u001b[0m\u001b[0m\n\u001b[0m\u001b[1;32m   2899\u001b[0m             \u001b[0;32mexcept\u001b[0m \u001b[0mKeyError\u001b[0m \u001b[0;32mas\u001b[0m \u001b[0merr\u001b[0m\u001b[0;34m:\u001b[0m\u001b[0;34m\u001b[0m\u001b[0;34m\u001b[0m\u001b[0m\n",
            "\u001b[0;32mpandas/_libs/index.pyx\u001b[0m in \u001b[0;36mpandas._libs.index.IndexEngine.get_loc\u001b[0;34m()\u001b[0m\n",
            "\u001b[0;32mpandas/_libs/index.pyx\u001b[0m in \u001b[0;36mpandas._libs.index.IndexEngine.get_loc\u001b[0;34m()\u001b[0m\n",
            "\u001b[0;32mpandas/_libs/hashtable_class_helper.pxi\u001b[0m in \u001b[0;36mpandas._libs.hashtable.PyObjectHashTable.get_item\u001b[0;34m()\u001b[0m\n",
            "\u001b[0;32mpandas/_libs/hashtable_class_helper.pxi\u001b[0m in \u001b[0;36mpandas._libs.hashtable.PyObjectHashTable.get_item\u001b[0;34m()\u001b[0m\n",
            "\u001b[0;31mKeyError\u001b[0m: 'Glucose'",
            "\nThe above exception was the direct cause of the following exception:\n",
            "\u001b[0;31mKeyError\u001b[0m                                  Traceback (most recent call last)",
            "\u001b[0;32m<ipython-input-18-bc9dccad2346>\u001b[0m in \u001b[0;36m<module>\u001b[0;34m()\u001b[0m\n\u001b[1;32m      1\u001b[0m \u001b[0;31m#Mengidentifikasi nilai tak wajar sebagai missing value\u001b[0m\u001b[0;34m\u001b[0m\u001b[0;34m\u001b[0m\u001b[0;34m\u001b[0m\u001b[0m\n\u001b[1;32m      2\u001b[0m \u001b[0;34m\u001b[0m\u001b[0m\n\u001b[0;32m----> 3\u001b[0;31m \u001b[0mdatmin\u001b[0m\u001b[0;34m[\u001b[0m\u001b[0;34m'Glucose'\u001b[0m\u001b[0;34m]\u001b[0m\u001b[0;34m=\u001b[0m\u001b[0mdatmin\u001b[0m\u001b[0;34m[\u001b[0m\u001b[0;34m'Glucose'\u001b[0m\u001b[0;34m]\u001b[0m\u001b[0;34m.\u001b[0m\u001b[0mreplace\u001b[0m\u001b[0;34m(\u001b[0m\u001b[0;36m0\u001b[0m\u001b[0;34m,\u001b[0m\u001b[0mnp\u001b[0m\u001b[0;34m.\u001b[0m\u001b[0mnan\u001b[0m\u001b[0;34m)\u001b[0m\u001b[0;34m\u001b[0m\u001b[0;34m\u001b[0m\u001b[0m\n\u001b[0m\u001b[1;32m      4\u001b[0m \u001b[0mdatmin\u001b[0m\u001b[0;34m[\u001b[0m\u001b[0;34m'BloodPressure'\u001b[0m\u001b[0;34m]\u001b[0m\u001b[0;34m=\u001b[0m\u001b[0mdatmin\u001b[0m\u001b[0;34m[\u001b[0m\u001b[0;34m'BloodPressure'\u001b[0m\u001b[0;34m]\u001b[0m\u001b[0;34m.\u001b[0m\u001b[0mreplace\u001b[0m\u001b[0;34m(\u001b[0m\u001b[0;36m0\u001b[0m\u001b[0;34m,\u001b[0m\u001b[0mnp\u001b[0m\u001b[0;34m.\u001b[0m\u001b[0mnan\u001b[0m\u001b[0;34m)\u001b[0m\u001b[0;34m\u001b[0m\u001b[0;34m\u001b[0m\u001b[0m\n\u001b[1;32m      5\u001b[0m \u001b[0mdatmin\u001b[0m\u001b[0;34m[\u001b[0m\u001b[0;34m'SkinThickness'\u001b[0m\u001b[0;34m]\u001b[0m\u001b[0;34m=\u001b[0m\u001b[0mdatmin\u001b[0m\u001b[0;34m[\u001b[0m\u001b[0;34m'SkinThickness'\u001b[0m\u001b[0;34m]\u001b[0m\u001b[0;34m.\u001b[0m\u001b[0mreplace\u001b[0m\u001b[0;34m(\u001b[0m\u001b[0;36m0\u001b[0m\u001b[0;34m,\u001b[0m\u001b[0mnp\u001b[0m\u001b[0;34m.\u001b[0m\u001b[0mnan\u001b[0m\u001b[0;34m)\u001b[0m\u001b[0;34m\u001b[0m\u001b[0;34m\u001b[0m\u001b[0m\n",
            "\u001b[0;32m/usr/local/lib/python3.7/dist-packages/pandas/core/frame.py\u001b[0m in \u001b[0;36m__getitem__\u001b[0;34m(self, key)\u001b[0m\n\u001b[1;32m   2904\u001b[0m             \u001b[0;32mif\u001b[0m \u001b[0mself\u001b[0m\u001b[0;34m.\u001b[0m\u001b[0mcolumns\u001b[0m\u001b[0;34m.\u001b[0m\u001b[0mnlevels\u001b[0m \u001b[0;34m>\u001b[0m \u001b[0;36m1\u001b[0m\u001b[0;34m:\u001b[0m\u001b[0;34m\u001b[0m\u001b[0;34m\u001b[0m\u001b[0m\n\u001b[1;32m   2905\u001b[0m                 \u001b[0;32mreturn\u001b[0m \u001b[0mself\u001b[0m\u001b[0;34m.\u001b[0m\u001b[0m_getitem_multilevel\u001b[0m\u001b[0;34m(\u001b[0m\u001b[0mkey\u001b[0m\u001b[0;34m)\u001b[0m\u001b[0;34m\u001b[0m\u001b[0;34m\u001b[0m\u001b[0m\n\u001b[0;32m-> 2906\u001b[0;31m             \u001b[0mindexer\u001b[0m \u001b[0;34m=\u001b[0m \u001b[0mself\u001b[0m\u001b[0;34m.\u001b[0m\u001b[0mcolumns\u001b[0m\u001b[0;34m.\u001b[0m\u001b[0mget_loc\u001b[0m\u001b[0;34m(\u001b[0m\u001b[0mkey\u001b[0m\u001b[0;34m)\u001b[0m\u001b[0;34m\u001b[0m\u001b[0;34m\u001b[0m\u001b[0m\n\u001b[0m\u001b[1;32m   2907\u001b[0m             \u001b[0;32mif\u001b[0m \u001b[0mis_integer\u001b[0m\u001b[0;34m(\u001b[0m\u001b[0mindexer\u001b[0m\u001b[0;34m)\u001b[0m\u001b[0;34m:\u001b[0m\u001b[0;34m\u001b[0m\u001b[0;34m\u001b[0m\u001b[0m\n\u001b[1;32m   2908\u001b[0m                 \u001b[0mindexer\u001b[0m \u001b[0;34m=\u001b[0m \u001b[0;34m[\u001b[0m\u001b[0mindexer\u001b[0m\u001b[0;34m]\u001b[0m\u001b[0;34m\u001b[0m\u001b[0;34m\u001b[0m\u001b[0m\n",
            "\u001b[0;32m/usr/local/lib/python3.7/dist-packages/pandas/core/indexes/base.py\u001b[0m in \u001b[0;36mget_loc\u001b[0;34m(self, key, method, tolerance)\u001b[0m\n\u001b[1;32m   2898\u001b[0m                 \u001b[0;32mreturn\u001b[0m \u001b[0mself\u001b[0m\u001b[0;34m.\u001b[0m\u001b[0m_engine\u001b[0m\u001b[0;34m.\u001b[0m\u001b[0mget_loc\u001b[0m\u001b[0;34m(\u001b[0m\u001b[0mcasted_key\u001b[0m\u001b[0;34m)\u001b[0m\u001b[0;34m\u001b[0m\u001b[0;34m\u001b[0m\u001b[0m\n\u001b[1;32m   2899\u001b[0m             \u001b[0;32mexcept\u001b[0m \u001b[0mKeyError\u001b[0m \u001b[0;32mas\u001b[0m \u001b[0merr\u001b[0m\u001b[0;34m:\u001b[0m\u001b[0;34m\u001b[0m\u001b[0;34m\u001b[0m\u001b[0m\n\u001b[0;32m-> 2900\u001b[0;31m                 \u001b[0;32mraise\u001b[0m \u001b[0mKeyError\u001b[0m\u001b[0;34m(\u001b[0m\u001b[0mkey\u001b[0m\u001b[0;34m)\u001b[0m \u001b[0;32mfrom\u001b[0m \u001b[0merr\u001b[0m\u001b[0;34m\u001b[0m\u001b[0;34m\u001b[0m\u001b[0m\n\u001b[0m\u001b[1;32m   2901\u001b[0m \u001b[0;34m\u001b[0m\u001b[0m\n\u001b[1;32m   2902\u001b[0m         \u001b[0;32mif\u001b[0m \u001b[0mtolerance\u001b[0m \u001b[0;32mis\u001b[0m \u001b[0;32mnot\u001b[0m \u001b[0;32mNone\u001b[0m\u001b[0;34m:\u001b[0m\u001b[0;34m\u001b[0m\u001b[0;34m\u001b[0m\u001b[0m\n",
            "\u001b[0;31mKeyError\u001b[0m: 'Glucose'"
          ]
        }
      ]
    },
    {
      "cell_type": "markdown",
      "metadata": {
        "id": "Ij3bm9C5KZht"
      },
      "source": [
        "##Missing Value"
      ]
    },
    {
      "cell_type": "code",
      "metadata": {
        "id": "ICSoI9pR3Kg1",
        "colab": {
          "base_uri": "https://localhost:8080/"
        },
        "outputId": "968ef7c7-3f8f-40d9-a820-4d14ad6f84d8"
      },
      "source": [
        "#cek missing value\n",
        "total=datmin.isnull().sum().sort_values(ascending = False)\n",
        "print(total)"
      ],
      "execution_count": null,
      "outputs": [
        {
          "output_type": "stream",
          "text": [
            "Pregnancies,Glucose,BloodPressure,SkinThickness,Insulin,BMI,DiabetesPedigreeFunction,Age,Outcome    0\n",
            "dtype: int64\n"
          ],
          "name": "stdout"
        }
      ]
    },
    {
      "cell_type": "markdown",
      "metadata": {
        "id": "gpaBLKaLlAop"
      },
      "source": [
        "Sebelum melakukan imputasi pada nilai missing, dicek terlebih dahulu skewness dari data, untuk menentukan imputasi yang tepat"
      ]
    },
    {
      "cell_type": "markdown",
      "metadata": {
        "id": "szNkw3VdlOjK"
      },
      "source": [
        "##Imputasi Missing Value\n"
      ]
    },
    {
      "cell_type": "code",
      "metadata": {
        "id": "yW9Icf8QZm98",
        "colab": {
          "base_uri": "https://localhost:8080/",
          "height": 202
        },
        "outputId": "ebfcc8c6-1766-4608-be27-8c47942ddf99"
      },
      "source": [
        "#imputasi class mean pada attribute Glucose dan Insulin\n",
        "df1['Glucose'].fillna(df1['Glucose'].mean(),inplace=True)\n",
        "df2['Glucose'].fillna(df2['Glucose'].mean(),inplace=True)"
      ],
      "execution_count": null,
      "outputs": [
        {
          "output_type": "error",
          "ename": "NameError",
          "evalue": "ignored",
          "traceback": [
            "\u001b[0;31m---------------------------------------------------------------------------\u001b[0m",
            "\u001b[0;31mNameError\u001b[0m                                 Traceback (most recent call last)",
            "\u001b[0;32m<ipython-input-22-6f16576232c4>\u001b[0m in \u001b[0;36m<module>\u001b[0;34m()\u001b[0m\n\u001b[1;32m      1\u001b[0m \u001b[0;31m#imputasi class mean pada attribute Glucose dan Insulin\u001b[0m\u001b[0;34m\u001b[0m\u001b[0;34m\u001b[0m\u001b[0;34m\u001b[0m\u001b[0m\n\u001b[0;32m----> 2\u001b[0;31m \u001b[0mdf1\u001b[0m\u001b[0;34m[\u001b[0m\u001b[0;34m'Glucose'\u001b[0m\u001b[0;34m]\u001b[0m\u001b[0;34m.\u001b[0m\u001b[0mfillna\u001b[0m\u001b[0;34m(\u001b[0m\u001b[0mdf1\u001b[0m\u001b[0;34m[\u001b[0m\u001b[0;34m'Glucose'\u001b[0m\u001b[0;34m]\u001b[0m\u001b[0;34m.\u001b[0m\u001b[0mmean\u001b[0m\u001b[0;34m(\u001b[0m\u001b[0;34m)\u001b[0m\u001b[0;34m,\u001b[0m\u001b[0minplace\u001b[0m\u001b[0;34m=\u001b[0m\u001b[0;32mTrue\u001b[0m\u001b[0;34m)\u001b[0m\u001b[0;34m\u001b[0m\u001b[0;34m\u001b[0m\u001b[0m\n\u001b[0m\u001b[1;32m      3\u001b[0m \u001b[0mdf2\u001b[0m\u001b[0;34m[\u001b[0m\u001b[0;34m'Glucose'\u001b[0m\u001b[0;34m]\u001b[0m\u001b[0;34m.\u001b[0m\u001b[0mfillna\u001b[0m\u001b[0;34m(\u001b[0m\u001b[0mdf2\u001b[0m\u001b[0;34m[\u001b[0m\u001b[0;34m'Glucose'\u001b[0m\u001b[0;34m]\u001b[0m\u001b[0;34m.\u001b[0m\u001b[0mmean\u001b[0m\u001b[0;34m(\u001b[0m\u001b[0;34m)\u001b[0m\u001b[0;34m,\u001b[0m\u001b[0minplace\u001b[0m\u001b[0;34m=\u001b[0m\u001b[0;32mTrue\u001b[0m\u001b[0;34m)\u001b[0m\u001b[0;34m\u001b[0m\u001b[0;34m\u001b[0m\u001b[0m\n",
            "\u001b[0;31mNameError\u001b[0m: name 'df1' is not defined"
          ]
        }
      ]
    },
    {
      "cell_type": "code",
      "metadata": {
        "id": "RlMVMp_WzLcJ"
      },
      "source": [
        "df1['Insulin'].fillna(df1['Insulin'].median(),inplace=True)\n",
        "df2['Insulin'].fillna(df2['Insulin'].median(),inplace=True)\n",
        "datmin2=df1.append(df2)\n",
        "datmin2.head()"
      ],
      "execution_count": null,
      "outputs": []
    },
    {
      "cell_type": "code",
      "metadata": {
        "id": "mVzUw8CSYlqi"
      },
      "source": [
        "#Imputasi Mean pada bloodpressure, skinthickness, dan BMI\n",
        "mean1=datmin2['BloodPressure'].mean()\n",
        "datmin2['BloodPressure'].fillna(mean1,inplace=True)\n",
        "mean2=datmin2['SkinThickness'].mean()\n",
        "datmin2['SkinThickness'].fillna(mean2,inplace=True)\n",
        "mean3=datmin2['BMI'].mean()\n",
        "datmin2['BMI'].fillna(mean3,inplace=True)"
      ],
      "execution_count": null,
      "outputs": []
    },
    {
      "cell_type": "code",
      "metadata": {
        "id": "Z0-sSanIa-wx"
      },
      "source": [
        "datmin2.describe().transpose()"
      ],
      "execution_count": null,
      "outputs": []
    },
    {
      "cell_type": "code",
      "metadata": {
        "id": "gx4ii5KhbZSg"
      },
      "source": [
        "#Ckecking Missing Value\n",
        "total=datmin2.isnull().sum().sort_values(ascending = False)\n",
        "print(total)"
      ],
      "execution_count": null,
      "outputs": []
    },
    {
      "cell_type": "markdown",
      "metadata": {
        "id": "21IYt1YWLCWv"
      },
      "source": [
        "##Outlier"
      ]
    },
    {
      "cell_type": "code",
      "metadata": {
        "id": "_bjuLXykidbW"
      },
      "source": [
        "#Cek outlier menggunakan boxplot\n",
        "datat=['Pregnancies','Glucose','BloodPressure','SkinThickness','Insulin','BMI','DiabetesPedigreeFunction','Age']\n",
        "ax = sns.boxplot(data=datmin2[datat], orient=\"h\", palette=\"Set2\")"
      ],
      "execution_count": null,
      "outputs": []
    },
    {
      "cell_type": "code",
      "metadata": {
        "id": "ed2AFAZioSOO"
      },
      "source": [
        "ax = sns.boxplot(data=datscale[datat], orient=\"h\", palette=\"Set2\")"
      ],
      "execution_count": null,
      "outputs": []
    },
    {
      "cell_type": "markdown",
      "metadata": {
        "id": "G4sGUE3Qe9E0"
      },
      "source": [
        "###Univariate"
      ]
    },
    {
      "cell_type": "code",
      "metadata": {
        "id": "MsBA5tqmLKU6"
      },
      "source": [
        "#membuat fungsi deteksi outlier univariat\n",
        "def outlier_treatment(datacolumn):\n",
        " sorted(datacolumn)\n",
        " Q1,Q3 = np.percentile(datacolumn , [25,75])\n",
        " IQR = Q3-Q1\n",
        " lower_range = Q1-(1.5 * IQR)\n",
        " upper_range = Q3 + (1.5 * IQR)\n",
        " return lower_range,upper_range"
      ],
      "execution_count": null,
      "outputs": []
    },
    {
      "cell_type": "code",
      "metadata": {
        "id": "3G7zwXMOLTPu"
      },
      "source": [
        "lowerbound,upperbound = outlier_treatment(datmin2['Pregnancies'])\n",
        "datmin2[(datmin2['Pregnancies'] < lowerbound) | (datmin2['Pregnancies'] > upperbound)].index"
      ],
      "execution_count": null,
      "outputs": []
    },
    {
      "cell_type": "code",
      "metadata": {
        "id": "S7AiIqGcLYKO"
      },
      "source": [
        "lowerbound,upperbound = outlier_treatment(datmin2['Glucose'])\n",
        "datmin2[(datmin2['Glucose'] < lowerbound) | (datmin2['Glucose'] > upperbound)].index"
      ],
      "execution_count": null,
      "outputs": []
    },
    {
      "cell_type": "code",
      "metadata": {
        "id": "LRDatUfmLcj-"
      },
      "source": [
        "lowerbound,upperbound = outlier_treatment(datmin2['BloodPressure'])\n",
        "datmin2[(datmin2['BloodPressure'] < lowerbound) | (datmin2['BloodPressure'] > upperbound)].index"
      ],
      "execution_count": null,
      "outputs": []
    },
    {
      "cell_type": "code",
      "metadata": {
        "id": "NBnI_CVaLoMp"
      },
      "source": [
        "lowerbound,upperbound = outlier_treatment(datmin2['SkinThickness'])\n",
        "datmin2[(datmin2['SkinThickness'] < lowerbound) | (datmin2['SkinThickness'] > upperbound)].index"
      ],
      "execution_count": null,
      "outputs": []
    },
    {
      "cell_type": "code",
      "metadata": {
        "id": "YkdxMjPGi5SA"
      },
      "source": [
        "lowerbound,upperbound = outlier_treatment(datmin2['Insulin'])\n",
        "datmin2[(datmin2['Insulin'] < lowerbound) | (datmin2['Insulin'] > upperbound)].index"
      ],
      "execution_count": null,
      "outputs": []
    },
    {
      "cell_type": "code",
      "metadata": {
        "id": "_dohWsqojDfs"
      },
      "source": [
        "lowerbound,upperbound = outlier_treatment(datmin2['BMI'])\n",
        "datmin2[(datmin2['BMI'] < lowerbound) | (datmin2['BMI'] > upperbound)].index"
      ],
      "execution_count": null,
      "outputs": []
    },
    {
      "cell_type": "code",
      "metadata": {
        "id": "Jm8zEDy8jKo6"
      },
      "source": [
        "lowerbound,upperbound = outlier_treatment(datmin2['DiabetesPedigreeFunction'])\n",
        "datmin2[(datmin2['DiabetesPedigreeFunction'] < lowerbound) | (datmin2['DiabetesPedigreeFunction'] > upperbound)].index"
      ],
      "execution_count": null,
      "outputs": []
    },
    {
      "cell_type": "code",
      "metadata": {
        "id": "WF3lANNEympj"
      },
      "source": [
        "lowerbound,upperbound = outlier_treatment(datmin2['Age'])\n",
        "datmin2[(datmin2['Age'] < lowerbound) | (datmin2['Age'] > upperbound)].index"
      ],
      "execution_count": null,
      "outputs": []
    },
    {
      "cell_type": "markdown",
      "metadata": {
        "id": "hLUgGwf_fJKH"
      },
      "source": [
        "## Multivariate (Mahalanobis Distance)"
      ]
    },
    {
      "cell_type": "code",
      "metadata": {
        "id": "mKkwQWs5lGv7"
      },
      "source": [
        "#mengambil data tanpa kolom target/outcome\n",
        "datout2=datmin2[['Pregnancies','Glucose','BloodPressure',\n",
        "                'SkinThickness','Insulin','BMI','DiabetesPedigreeFunction','Age']]"
      ],
      "execution_count": null,
      "outputs": []
    },
    {
      "cell_type": "code",
      "metadata": {
        "id": "_f4CszgCNjpX"
      },
      "source": [
        "#mengetahui banyak data (n)\n",
        "df=len(list(datout2.columns.values))"
      ],
      "execution_count": null,
      "outputs": []
    },
    {
      "cell_type": "code",
      "metadata": {
        "id": "d2EMFIN7nG3W"
      },
      "source": [
        "#membuat fungsi mahalanobis distance\n",
        "def mahalanobis(x=None, data=None, cov=None):\n",
        "    x_minus_mu = x - np.mean(data)\n",
        "    if not cov:\n",
        "        cov = np.cov(data.values.T)\n",
        "    inv_covmat = np.linalg.inv(cov)\n",
        "    left_term = np.dot(x_minus_mu, inv_covmat)\n",
        "    mahal = np.dot(left_term, x_minus_mu.T)\n",
        "    return mahal.diagonal()"
      ],
      "execution_count": null,
      "outputs": []
    },
    {
      "cell_type": "code",
      "metadata": {
        "id": "MGXrFfvPnUtx"
      },
      "source": [
        "datout2['mahala'] = mahalanobis(x=datout2, data=datout2)\n",
        "datout2.head()"
      ],
      "execution_count": null,
      "outputs": []
    },
    {
      "cell_type": "code",
      "metadata": {
        "id": "jKMxGfTXqv_I"
      },
      "source": [
        "#membuat fungsi deteksi outlier MD\n",
        "from scipy.stats import chi2\n",
        "def MD_detectOutliers(MD,df):\n",
        "    nilaichi=chi2.isf(0.01, df)\n",
        "    outliers = []\n",
        "    for i in range(len(MD)):\n",
        "        if (MD[i] > nilaichi):\n",
        "            outliers.append(i)  # index of the outlier\n",
        "    return np.array(outliers)\n"
      ],
      "execution_count": null,
      "outputs": []
    },
    {
      "cell_type": "code",
      "metadata": {
        "id": "OXA4YduQp8pT"
      },
      "source": [
        "outliers_indices = MD_detectOutliers(datout2['mahala'],df)\n",
        "\n",
        "print(\"Outliers Indices: {}\\n\".format(outliers_indices))"
      ],
      "execution_count": null,
      "outputs": []
    },
    {
      "cell_type": "code",
      "metadata": {
        "id": "B8rDQfkoyEy_"
      },
      "source": [
        "len(outliers_indices)"
      ],
      "execution_count": null,
      "outputs": []
    },
    {
      "cell_type": "code",
      "metadata": {
        "id": "aw7kqWRlQZQL"
      },
      "source": [
        "d2=datout2['mahala']\n",
        "eks = range( len( d2 ))\n",
        "\n",
        "plt.subplot(111)\n",
        "\n",
        "plt.scatter( eks, d2 )\n",
        "\n",
        "plt.hlines( chi2.ppf(0.99, df), 0, len(d2), label =\"99% $\\chi^2$ quantile\", linestyles = \"solid\" )  \n",
        "\n",
        "plt.legend()\n",
        "plt.ylabel(\"recorded value\")\n",
        "plt.xlabel(\"observation\")\n",
        "plt.title( 'Mahalanobis detection of outliers at 99% $\\chi^2$ quantiles' )\n",
        "\n",
        "plt.show()"
      ],
      "execution_count": null,
      "outputs": []
    },
    {
      "cell_type": "markdown",
      "metadata": {
        "id": "qERpyRCIFajO"
      },
      "source": [
        "## Imputasi Outlier (Lanjutan)"
      ]
    },
    {
      "cell_type": "code",
      "metadata": {
        "id": "AmN5W0t7Fl4l"
      },
      "source": [
        "out2=datmin2\n",
        "lowerbound,upperbound = outlier_treatment(datmin2['Pregnancies'])\n",
        "out2.loc[(out2['Pregnancies'] < lowerbound) | (out2['Pregnancies'] > upperbound),'Pregnancies']=np.NaN"
      ],
      "execution_count": null,
      "outputs": []
    },
    {
      "cell_type": "code",
      "metadata": {
        "id": "qw0v32jgpd6P"
      },
      "source": [
        "lowerbound1,upperbound1 = outlier_treatment(datmin2['BloodPressure'])\n",
        "out2.loc[(out2['BloodPressure'] < lowerbound1) | (out2['BloodPressure'] > upperbound1),'BloodPressure']=np.NaN\n",
        "lowerbound2,upperbound2 = outlier_treatment(datmin2['SkinThickness'])\n",
        "out2.loc[(out2['SkinThickness'] < lowerbound2) | (out2['SkinThickness'] > upperbound2),'SkinThickness']=np.NaN\n",
        "lowerbound3,upperbound3 = outlier_treatment(datmin2['Insulin'])\n",
        "out2.loc[(out2['Insulin'] < lowerbound3) | (out2['Insulin'] > upperbound3),'Insulin']=np.NaN\n",
        "lowerbound4,upperbound4 = outlier_treatment(datmin2['BMI'])\n",
        "out2.loc[(out2['BMI'] < lowerbound4) | (out2['BMI'] > upperbound4),'BMI']=np.NaN\n",
        "lowerbound5,upperbound5 = outlier_treatment(datmin2['DiabetesPedigreeFunction'])\n",
        "out2.loc[(out2['DiabetesPedigreeFunction'] < lowerbound5) | (out2['DiabetesPedigreeFunction'] > upperbound5),'DiabetesPedigreeFunction']=np.NaN\n",
        "lowerbound6,upperbound6 = outlier_treatment(datmin2['Age'])\n",
        "out2.loc[(out2['Age'] < lowerbound6) | (out2['Age'] > upperbound6),'Age']=np.NaN"
      ],
      "execution_count": null,
      "outputs": []
    },
    {
      "cell_type": "code",
      "metadata": {
        "id": "nGCjMR-4I7F-"
      },
      "source": [
        "out2.skew(skipna=True)"
      ],
      "execution_count": null,
      "outputs": []
    },
    {
      "cell_type": "code",
      "metadata": {
        "id": "hoZVm33kF8kI"
      },
      "source": [
        "out2['Pregnancies'].fillna(out2['Pregnancies'].mean(),inplace=True)\n",
        "out2['BloodPressure'].fillna(out2['BloodPressure'].mean(),inplace=True)\n",
        "out2['SkinThickness'].fillna(out2['SkinThickness'].mean(),inplace=True)\n",
        "out2['Insulin'].fillna(out2['Insulin'].mean(),inplace=True)\n",
        "out2['BMI'].fillna(out2['BMI'].mean(),inplace=True)\n",
        "out2['DiabetesPedigreeFunction'].fillna(out2['DiabetesPedigreeFunction'].mean(),inplace=True)\n",
        "out2['Age'].fillna(out2['Age'].mean(),inplace=True)"
      ],
      "execution_count": null,
      "outputs": []
    },
    {
      "cell_type": "code",
      "metadata": {
        "id": "Af7VApAkHXca"
      },
      "source": [
        "lowerbound,upperbound = outlier_treatment(out2['Pregnancies'])\n",
        "out2[(out2['Pregnancies'] < lowerbound) | (out2['Pregnancies'] > upperbound)].index"
      ],
      "execution_count": null,
      "outputs": []
    },
    {
      "cell_type": "code",
      "metadata": {
        "id": "Nvscc8GjJDu2"
      },
      "source": [
        "lowerbound,upperbound = outlier_treatment(out2['BloodPressure'])\n",
        "len(out2[(out2['BloodPressure'] < lowerbound) | (out2['BloodPressure'] > upperbound)].index)"
      ],
      "execution_count": null,
      "outputs": []
    },
    {
      "cell_type": "code",
      "metadata": {
        "id": "SeBGnuHvJSTW"
      },
      "source": [
        "lowerbound,upperbound = outlier_treatment(out2['SkinThickness'])\n",
        "out2[(out2['SkinThickness'] < lowerbound) | (out2['SkinThickness'] > upperbound)].index"
      ],
      "execution_count": null,
      "outputs": []
    },
    {
      "cell_type": "code",
      "metadata": {
        "id": "UE-z90XfJZlT"
      },
      "source": [
        "lowerbound,upperbound = outlier_treatment(out2['Insulin'])\n",
        "out2[(out2['Insulin'] < lowerbound) | (out2['Insulin'] > upperbound)].index"
      ],
      "execution_count": null,
      "outputs": []
    },
    {
      "cell_type": "code",
      "metadata": {
        "id": "--c4lNK7JeQu"
      },
      "source": [
        "lowerbound,upperbound = outlier_treatment(out2['BMI'])\n",
        "out2[(out2['BMI'] < lowerbound) | (out2['BMI'] > upperbound)].index"
      ],
      "execution_count": null,
      "outputs": []
    },
    {
      "cell_type": "code",
      "metadata": {
        "id": "ru-AvKKJrfzD"
      },
      "source": [
        "lowerbound,upperbound = outlier_treatment(out2['DiabetesPedigreeFunction'])\n",
        "out2[(out2['DiabetesPedigreeFunction'] < lowerbound) | (out2['DiabetesPedigreeFunction'] > upperbound)].index"
      ],
      "execution_count": null,
      "outputs": []
    },
    {
      "cell_type": "code",
      "metadata": {
        "id": "f4i0cbj8Jp8E"
      },
      "source": [
        "lowerbound,upperbound = outlier_treatment(out2['Age'])\n",
        "out2[(out2['Age'] < lowerbound) | (out2['Age'] > upperbound)].index"
      ],
      "execution_count": null,
      "outputs": []
    },
    {
      "cell_type": "markdown",
      "metadata": {
        "id": "VKprsRt4r6p_"
      },
      "source": [
        "##After Imputasi Outlier"
      ]
    },
    {
      "cell_type": "code",
      "metadata": {
        "id": "kFAVCJbgsAMl"
      },
      "source": [
        "import seaborn as sns\n",
        "datat=['Pregnancies','Glucose','BloodPressure','SkinThickness',\n",
        "        'Insulin','BMI','DiabetesPedigreeFunction','Age']\n",
        "ax = sns.boxplot(data=out2[datat], orient=\"h\", palette=\"Set2\")"
      ],
      "execution_count": null,
      "outputs": []
    },
    {
      "cell_type": "code",
      "metadata": {
        "id": "uXHI8Ic9sD3j"
      },
      "source": [
        "out2['mahala'] = mahalanobis(x=out2, data=out2)\n",
        "out2.head()\n",
        "outliers_indices = MD_detectOutliers(out2['mahala'],df)\n",
        "\n",
        "print(\"Outliers Indices: {}\\n\".format(outliers_indices))"
      ],
      "execution_count": null,
      "outputs": []
    },
    {
      "cell_type": "code",
      "metadata": {
        "id": "YT2W6f2atuEZ"
      },
      "source": [
        "len(outliers_indices)"
      ],
      "execution_count": null,
      "outputs": []
    },
    {
      "cell_type": "markdown",
      "metadata": {
        "id": "Cv0xzbA8kTH7"
      },
      "source": [
        "##Scaling"
      ]
    },
    {
      "cell_type": "code",
      "metadata": {
        "id": "dHQKeA_PkXG-"
      },
      "source": [
        "def NormalizeData(data):\n",
        "    return (data - np.min(data)) / (np.max(data) - np.min(data))\n",
        "datscale=NormalizeData(datmin2)"
      ],
      "execution_count": null,
      "outputs": []
    },
    {
      "cell_type": "code",
      "metadata": {
        "id": "uXIRG_8hoIFM"
      },
      "source": [
        "datscale.describe()"
      ],
      "execution_count": null,
      "outputs": []
    },
    {
      "cell_type": "markdown",
      "metadata": {
        "id": "8F8vJ2sa0CL-"
      },
      "source": [
        "##Feature Selection"
      ]
    },
    {
      "cell_type": "code",
      "metadata": {
        "id": "8tOCym1m05qk"
      },
      "source": [
        "datscale.head()"
      ],
      "execution_count": null,
      "outputs": []
    },
    {
      "cell_type": "code",
      "metadata": {
        "id": "Z4NlRFM60_eC"
      },
      "source": [
        "X=datscale[datat]\n",
        "y=datscale[['Outcome']]"
      ],
      "execution_count": null,
      "outputs": []
    },
    {
      "cell_type": "code",
      "metadata": {
        "id": "cYYHFUw6z9S_"
      },
      "source": [
        "from sklearn.feature_selection import SelectKBest\n",
        "from sklearn.feature_selection import f_classif\n",
        "fvalue_selector = SelectKBest(f_classif, k=4)\n",
        "X_kbest = fvalue_selector.fit_transform(X, y)"
      ],
      "execution_count": null,
      "outputs": []
    },
    {
      "cell_type": "code",
      "metadata": {
        "id": "SgsPfqHQ1ap-"
      },
      "source": [
        "X_kbest"
      ],
      "execution_count": null,
      "outputs": []
    },
    {
      "cell_type": "code",
      "metadata": {
        "id": "cf1ZvM2Z1j7E"
      },
      "source": [
        "import seaborn as sns\n",
        "import matplotlib.pyplot as plt\n",
        "plt.figure(figsize=(10,10))\n",
        "cor = datscale.corr(method=\"kendall\")\n",
        "sns.heatmap(cor, annot=True)\n",
        "plt.show()"
      ],
      "execution_count": null,
      "outputs": []
    },
    {
      "cell_type": "markdown",
      "metadata": {
        "id": "lRna9a09thbj"
      },
      "source": [
        "#Split Training Testing Data"
      ]
    },
    {
      "cell_type": "code",
      "metadata": {
        "id": "3UXhmOsrtolr"
      },
      "source": [
        "from sklearn.model_selection import train_test_split\n",
        "xTrain, xTest, yTrain, yTest = train_test_split(X, y, test_size = 0.2,random_state=0)"
      ],
      "execution_count": null,
      "outputs": []
    }
  ]
}